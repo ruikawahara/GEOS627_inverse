{
 "cells": [
  {
   "cell_type": "code",
   "execution_count": null,
   "metadata": {},
   "outputs": [],
   "source": [
    "#matplotlib inline\n",
    "import matplotlib.pyplot as plt\n",
    "import numpy as np\n",
    "import scipy.linalg as la\n",
    "import scipy.io\n",
    "import warnings\n",
    "warnings.filterwarnings('ignore')\n",
    "\n",
    "from lib_peip import *\n",
    "from lib_geos import *\n",
    "\n",
    "# Estimation of density variations using singular value decomposition."
   ]
  },
  {
   "cell_type": "code",
   "execution_count": null,
   "metadata": {},
   "outputs": [],
   "source": [
    "igrav = 1\n",
    "\n",
    "if igrav==1:\n",
    "    # construct discretization vector for model (density)\n",
    "    nparm = 14\n",
    "    ximin = 0\n",
    "    ximax = 1\n",
    "    xivec = collocate(ximin,ximax,nparm)\n",
    "    dxi = xivec[1]-xivec[0]\n",
    "    \n",
    "    # construct discretization vector for data (gravity)\n",
    "    ndata = nparm + 1\n",
    "    xmin = 0\n",
    "    xmax = 1\n",
    "    xvec = collocate(xmin,xmax,ndata)\n",
    "\n",
    "    # design matrix G (CODE HERE)\n",
    "    \n",
    "    \n",
    "    \n",
    "\n",
    "    # data \n",
    "    dobs = [\n",
    "       3.200806372256319,\n",
    "       4.281623543773417,\n",
    "       5.000263689234144,\n",
    "       6.083743151550228,\n",
    "       6.755930945340174,\n",
    "       6.643468068035755,\n",
    "       6.585278806244575,\n",
    "       5.953388158640383,\n",
    "       5.123776695089963,\n",
    "       4.247191182133855,\n",
    "       3.175260569937137,\n",
    "       2.511125551747691,\n",
    "       2.004733630167365,\n",
    "       1.333121959786504,\n",
    "       0.949130251286033 ];\n",
    "    dobs = np.reshape(dobs,(ndata,1))\n",
    "    \n",
    "else:\n",
    "    dat = scipy.io.loadmat('data/ifk.mat')\n",
    "    dobs = dat['d']\n",
    "    ndata = len(dobs)\n",
    "\n",
    "    # construct discretization vector for data\n",
    "    xmin = 0\n",
    "    xmax = 1\n",
    "    xvec = collocate(xmin,xmax,ndata)\n",
    "    \n",
    "    # construct discretization vector for model\n",
    "    ximin = xmin\n",
    "    ximax = xmax\n",
    "    xivec = xvec    # identical discretization for model and for data\n",
    "    dxi = xivec[1]-xivec[0]\n",
    "    nparm = len(xivec)\n",
    "    \n",
    "    # design matrix G (CODE HERE)\n",
    "\n",
    "    \n",
    "\n",
    "\n",
    "# indices p' for SVD truncation\n",
    "p    = np.min([ndata,nparm])\n",
    "parr = np.arange(1,p+1)\n",
    "pvec = np.reshape(parr,(p,1))"
   ]
  },
  {
   "cell_type": "code",
   "execution_count": null,
   "metadata": {},
   "outputs": [],
   "source": [
    "dobs.shape"
   ]
  }
 ],
 "metadata": {
  "interpreter": {
   "hash": "7f341b321178e62fbbfacfb91167ed733f9907f6f0692efdceb8394e8303ba73"
  },
  "kernelspec": {
   "display_name": "inverse",
   "language": "python",
   "name": "conda-env-inverse-py"
  },
  "language_info": {
   "codemirror_mode": {
    "name": "ipython",
    "version": 3
   },
   "file_extension": ".py",
   "mimetype": "text/x-python",
   "name": "python",
   "nbconvert_exporter": "python",
   "pygments_lexer": "ipython3",
   "version": "3.8.12"
  }
 },
 "nbformat": 4,
 "nbformat_minor": 2
}
