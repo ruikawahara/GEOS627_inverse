{
 "cells": [
  {
   "cell_type": "code",
   "execution_count": null,
   "metadata": {},
   "outputs": [],
   "source": [
    "import matplotlib.pyplot as plt\n",
    "import numpy as np\n",
    "#matplotlib inline\n",
    "import warnings\n",
    "import scipy.linalg\n",
    "warnings.filterwarnings('ignore')                  # do not show warnings\n",
    "from lib_geos import *"
   ]
  },
  {
   "cell_type": "code",
   "execution_count": null,
   "metadata": {},
   "outputs": [],
   "source": [
    "# lab_svdgeom.m\n",
    "# Carl Tape, GEOS 627, Inverse Problems and Parameter Estimation\n",
    "#\n",
    "# Geometry of the singular value decomposition\n",
    "# coded by Yuan Tian, 2022 Mar @ UAF\n",
    "# pick a matrix\n",
    "def plot_text(v,vlab,f,fsize):\n",
    "    th,r=cart2pol(v[0],v[1])\n",
    "    v0,v1=pol2cart(th,r+f)\n",
    "    plt.text(v0,v1,vlab,fontsize=fsize)\n",
    "G = np.random.randint(-2,high=2,size=(2,2))\n",
    "\n",
    "# singular value decomposition\n",
    "[U, s, VH] = np.linalg.svd(G) \n",
    "S=scipy.linalg.diagsvd(s,*G.shape)                  # vector of singular values\n",
    "V=VH.T\n",
    "Gcheck = U@S@V.T\n",
    "# singular values\n",
    "s1 = S[0,0]\n",
    "s2 = S[1,1]\n",
    "# basis vectors\n",
    "v1 = V[:,0]\n",
    "v2 = V[:,1]\n",
    "u1 = U[:,0]\n",
    "u2 = U[:,1]\n",
    "\n",
    "\n",
    "# unit circle for plotting\n",
    "R = 1\n",
    "n = 100\n",
    "t = np.linspace(0,2*np.pi,n)\n",
    "x = R*np.cos(t)\n",
    "y = R*np.sin(t)\n",
    "Cx = np.array([x, y])\n",
    "\n",
    "\n",
    "# unit circles representing basis U and basis V\n",
    "Ux = Cx\n",
    "Vx = Cx\n",
    "\n",
    "# standard basis\n",
    "e1 = np.array([1,0])\n",
    "e2 = np.array([0,1])\n",
    "\n",
    "\n",
    "plt.figure(figsize=(9,8))\n",
    "nr=2\n",
    "nc=2\n",
    "plt.subplot(nr,nc,1)\n",
    "plt.grid()\n",
    "plt.axis('equal')\n",
    "plt.plot(Vx[0,:],Vx[1,:],'b-')\n",
    "plt.plot([0,v1[0]],[0,v1[1]],'b',lw=2)\n",
    "plt.plot([0,v2[0]],[0,v2[1]],'b',lw=2)\n",
    "\n",
    "GVx = G@Vx   # ellipse for plotting\n",
    "su1 = s1*u1\n",
    "su2 = s2*u2\n",
    "Ge1 = G@e1\n",
    "Ge2 = G@e2\n",
    "f = 0.03\n",
    "fsize = 16\n",
    "plt.subplot(nr,nc,2)\n",
    "plt.grid()\n",
    "plt.axis('equal')\n",
    "plt.plot(GVx[0,:],GVx[1,:],'r-')\n",
    "plt.plot(Ux[0,:],Ux[1,:],'r--')\n",
    "plt.plot([0,su1[0]],[0,su1[1]],'r',lw=2)\n",
    "plt.plot([0,su2[0]],[0,su2[1]],'r',lw=2)\n",
    "\n",
    "plt.subplot(nr,nc,1)\n",
    "plot_text(v1,r'$v_1$',f,fsize)\n",
    "plot_text(v2,r'$v_2$',f,fsize)\n",
    "plt.subplot(nr,nc,2)\n",
    "plot_text(su1,r'$s_1 u_1$',f,fsize)\n",
    "plot_text(su2,r'$s_2 u_2$',f,fsize)"
   ]
  },
  {
   "cell_type": "code",
   "execution_count": null,
   "metadata": {},
   "outputs": [],
   "source": [
    "# START CODE HERE FOR U --> GDAGGER --> V"
   ]
  }
 ],
 "metadata": {
  "interpreter": {
   "hash": "7f341b321178e62fbbfacfb91167ed733f9907f6f0692efdceb8394e8303ba73"
  },
  "kernelspec": {
   "display_name": "Python 3.8.12 ('inverse')",
   "language": "python",
   "name": "python3"
  },
  "language_info": {
   "codemirror_mode": {
    "name": "ipython",
    "version": 3
   },
   "file_extension": ".py",
   "mimetype": "text/x-python",
   "name": "python",
   "nbconvert_exporter": "python",
   "pygments_lexer": "ipython3",
   "version": "3.8.12"
  },
  "orig_nbformat": 4
 },
 "nbformat": 4,
 "nbformat_minor": 2
}
