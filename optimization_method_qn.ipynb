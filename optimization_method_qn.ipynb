{
 "cells": [
  {
   "cell_type": "code",
   "execution_count": null,
   "metadata": {},
   "outputs": [],
   "source": [
    "import numpy as np\n",
    "import scipy.linalg as la"
   ]
  },
  {
   "cell_type": "code",
   "execution_count": null,
   "metadata": {},
   "outputs": [],
   "source": [
    "# display initial model\n",
    "nn = 0\n",
    "print([' iteration ' +str(nn) +' out of ' +str(niter) ])\n",
    "print('%i/%i : %10s%16s%16s'% (nn,niter,'prior', 'current', 'target'))\n",
    "for ii in range(len(mprior)):\n",
    "    print('%16s%16s%16s'%(str(mprior[ii]),str(mnew[ii]),str(mtarget[ii])))\n",
    "\n",
    "if imethod==1:    # Newton method (full Hessian)\n",
    "    print(\"not yet implemented\")\n",
    "elif imethod==2:  # quasi-Newton\n",
    "    for nn in range(1,niter+1):\n",
    "        print([' iteration ' +str(nn) +' out of ' +str(niter) ])\n",
    "        m     = mnew\n",
    "        dpred = d(m)\n",
    "        Ga    = G(m)\n",
    "\n",
    "        # update the model: Tarantola (2005), Eq 6.319\n",
    "        g     = cprior@Ga.T@icobs@(dpred - dobs) + (m - mprior)  # steepest ascent vector\n",
    "        \n",
    "        #============================================\n",
    "        # CHANGE THIS BLOCK FOR EACH ALGORITHM (you may also need if statements)\n",
    "        H     = np.identity(nparm) + cprior@Ga.T@icobs@Ga        # approximate curvature\n",
    "        dm   = -la.inv(H) @ g\n",
    "        #============================================\n",
    "        \n",
    "        mnew = m + dm\n",
    "\n",
    "        # misfit function for new model\n",
    "        # note: book-keeping only -- not used within the algorithm above\n",
    "        Sd_vec[nn] = Sd(mnew,dobs,icobs)\n",
    "        Sm_vec[nn] = Sm(mnew,mprior,icprior)\n",
    "        S_vec[nn]  = S(mnew,dobs,mprior,icobs,icprior)\n",
    "\n",
    "        print('%i/%i : %10s%16s%16s'% (nn,niter,'prior', 'current', 'target'))\n",
    "        for ii in range(len(mprior)):\n",
    "            print('%16s    %16s    %16s'%(str(mprior[ii]),str(mnew[ii]),str(mtarget[ii])))\n",
    "\n",
    "elif imethod==3: # steepest descent\n",
    "    print(\"not yet implemented\")\n",
    "elif imethod==4: # conjugate gradient\n",
    "    print(\"not yet implemented\")\n",
    "elif imethod==5: #conjugate gradient (polynomial line search)  \n",
    "    print(\"not yet implemented\")\n",
    "elif imethod==6: # variable metric (matrix version)\n",
    "    print(\"not yet implemented\")\n",
    "elif imethod==7:\n",
    "    print(\"not yet implemented\")\n",
    "elif imethod==8:\n",
    "    print(\"not yet implemented\")\n",
    "elif imethod==9:\n",
    "    print(\"not yet implemented\")\n",
    "     \n",
    "# misfit function values\n",
    "print('summary of misfit function:')\n",
    "print('%8s%16s%16s%16s'% ('iter','Sd','Sm','S = Sm + Sd'))\n",
    "for nn in range(0,niter+1):\n",
    "    print('%8i%16.10f%16.10f%16.10f' % (iter_vec[nn],Sd_vec[nn],Sm_vec[nn],S_vec[nn]))"
   ]
  },
  {
   "cell_type": "code",
   "execution_count": null,
   "metadata": {},
   "outputs": [],
   "source": []
  }
 ],
 "metadata": {
  "interpreter": {
   "hash": "7f341b321178e62fbbfacfb91167ed733f9907f6f0692efdceb8394e8303ba73"
  },
  "kernelspec": {
   "display_name": "inverse",
   "language": "python",
   "name": "conda-env-inverse-py"
  },
  "language_info": {
   "codemirror_mode": {
    "name": "ipython",
    "version": 3
   },
   "file_extension": ".py",
   "mimetype": "text/x-python",
   "name": "python",
   "nbconvert_exporter": "python",
   "pygments_lexer": "ipython3",
   "version": "3.8.12"
  }
 },
 "nbformat": 4,
 "nbformat_minor": 2
}
