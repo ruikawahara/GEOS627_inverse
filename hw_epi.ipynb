{
 "cells": [
  {
   "cell_type": "code",
   "execution_count": null,
   "metadata": {},
   "outputs": [],
   "source": [
    "%matplotlib inline\n",
    "import matplotlib.pyplot as plt\n",
    "import numpy as np\n",
    "from matplotlib import cm\n",
    "from mpl_toolkits.mplot3d import Axes3D \n",
    "from matplotlib.colors import LightSource\n",
    "from lib_geos import *"
   ]
  },
  {
   "cell_type": "code",
   "execution_count": null,
   "metadata": {},
   "outputs": [],
   "source": [
    "# define an overarching function\n",
    "def epi_grid(inorm,fpt,iadderror):\n",
    "    \n",
    "    # grid spacing\n",
    "    dx = 0.2\n",
    "    \n",
    "    # range of model space (Tarantola Figure 7.1)\n",
    "    # note: length unit is km\n",
    "    xmin = 0\n",
    "    xmax = 22\n",
    "    ymin = -2\n",
    "    ymax = 30\n",
    "    xvec = np.arange(xmin,xmax+dx,dx)\n",
    "    yvec = np.arange(ymin,ymax+dx,dx)\n",
    "    [X,Y] = np.meshgrid(xvec,yvec)\n",
    "    x = X.flatten(order='F')\n",
    "    y = Y.flatten(order='F')\n",
    "    nx = len(xvec)\n",
    "    ny = len(yvec)\n",
    "    ng = len(x)\n",
    "    dA = dx**2\n",
    "    print('model space is %i x %i = %i' % (nx,ny,ng))\n",
    "    print('model cell in %.2f km x %.2f km = %.4km^2' % (dx,dx,dA))\n",
    "    \n",
    "    # forward model\n",
    "    def t(x,y,xri,yri):\n",
    "        return YOUR FUNCTION HERE\n",
    "    \n",
    "    # traveltime predictions vector\n",
    "    def tm(x,y):\n",
    "        tma=np.column_stack((t(x,y,xr[0],yr[0]),\n",
    "                             t(x,y,xr[1],yr[1]),\n",
    "                             t(x,y,xr[2],yr[2]),\n",
    "                             t(x,y,xr[3],yr[3]),\n",
    "                             t(x,y,xr[4],yr[4]),\n",
    "                             t(x,y,xr[5],yr[5])))\n",
    "        return tma\n",
    "\n",
    "    # misfit function\n",
    "    def F(x,y,tobs):\n",
    "        return YOUR FUNCTION HERE\n",
    "    "
   ]
  },
  {
   "cell_type": "code",
   "execution_count": null,
   "metadata": {},
   "outputs": [],
   "source": [
    "# call the function\n",
    "inorm=2\n",
    "iadderror=0\n",
    "fpt=0\n",
    "epi_grid(inorm,fpt,iadderror)"
   ]
  }
 ],
 "metadata": {
  "interpreter": {
   "hash": "a4e78903152c5c8c0a1611fb4b22aa78baa308a7734308b75819bd49ff5f4ec4"
  },
  "kernelspec": {
   "display_name": "inverse",
   "language": "python",
   "name": "conda-env-inverse-py"
  },
  "language_info": {
   "codemirror_mode": {
    "name": "ipython",
    "version": 3
   },
   "file_extension": ".py",
   "mimetype": "text/x-python",
   "name": "python",
   "nbconvert_exporter": "python",
   "pygments_lexer": "ipython3",
   "version": "3.8.12"
  }
 },
 "nbformat": 4,
 "nbformat_minor": 2
}
