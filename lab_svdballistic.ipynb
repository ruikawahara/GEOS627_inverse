{
 "cells": [
  {
   "cell_type": "code",
   "execution_count": null,
   "metadata": {},
   "outputs": [],
   "source": [
    "%matplotlib inline\n",
    "from sympy.matrices import Matrix # symbolic math package\n",
    "import numpy as np\n",
    "import matplotlib.pyplot as plt\n",
    "import scipy.linalg as la\n",
    "\n",
    "from lib_geos import *"
   ]
  },
  {
   "cell_type": "code",
   "execution_count": null,
   "metadata": {},
   "outputs": [],
   "source": [
    "tmin = 0    # min time\n",
    "tmax = 4    # max time\n",
    "ax0 = [tmin-1,tmax+1,-1,6]\n",
    "\n",
    "# items for plotting continuous solutions\n",
    "nplot = 100\n",
    "tplot = np.reshape(np.linspace(ax0[0],ax0[1],nplot),(nplot,1))\n",
    "Gplot = np.hstack((np.ones((nplot,1)), tplot, -0.5*tplot**2))"
   ]
  },
  {
   "cell_type": "code",
   "execution_count": null,
   "metadata": {},
   "outputs": [],
   "source": [
    "ndata = 3\n",
    "# our default data for the unique and exact solution parabola\n",
    "t0 = np.array([[0,2,3]]).T\n",
    "y0 = np.array([[3,4,3]]).T\n",
    "print('data [t y]:')\n",
    "print(np.hstack((t0,y0)))\n",
    "Matrix(np.hstack((t0,y0)))"
   ]
  },
  {
   "cell_type": "code",
   "execution_count": null,
   "metadata": {},
   "outputs": [],
   "source": [
    "# randomly generated integers between tmin and tmax\n",
    "ti = np.random.randint(tmin,high=tmax+1,size=(ndata,1))\n",
    "yi = np.random.randint(tmin,high=tmax+1,size=(ndata,1))\n",
    "Matrix(np.hstack((ti,yi)))"
   ]
  }
 ],
 "metadata": {
  "interpreter": {
   "hash": "053dc3b0a894b7eb257a1e45fdc32da76da9863afb1526d2fc5c429f06d38699"
  },
  "kernelspec": {
   "display_name": "inverse",
   "language": "python",
   "name": "conda-env-inverse-py"
  },
  "language_info": {
   "codemirror_mode": {
    "name": "ipython",
    "version": 3
   },
   "file_extension": ".py",
   "mimetype": "text/x-python",
   "name": "python",
   "nbconvert_exporter": "python",
   "pygments_lexer": "ipython3",
   "version": "3.8.12"
  }
 },
 "nbformat": 4,
 "nbformat_minor": 2
}
