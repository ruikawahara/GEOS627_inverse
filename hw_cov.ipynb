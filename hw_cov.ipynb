{
 "cells": [
  {
   "cell_type": "code",
   "execution_count": null,
   "id": "63d92adb",
   "metadata": {},
   "outputs": [],
   "source": [
    "%matplotlib inline\n",
    "import matplotlib.pyplot as plt\n",
    "import numpy as np\n",
    "import scipy.io\n",
    "import scipy.special\n",
    "\n",
    "from lib_geos import *\n",
    "from lib_fft import *\n",
    "import warnings\n",
    "warnings.filterwarnings('ignore')                  # do not show warnings"
   ]
  },
  {
   "cell_type": "code",
   "execution_count": null,
   "id": "67a08c30",
   "metadata": {},
   "outputs": [],
   "source": [
    "# Load the data\n",
    "# m_samples : M x P\n",
    "#         x : M x 1\n",
    "# M is the number of model parameters describing a single sample (of a covariance matrix)\n",
    "# P is the number of samples\n",
    "dat = scipy.io.loadmat('data/covhwdata.mat')\n",
    "x = dat['x']\n",
    "m_samples = dat['m_samples']\n",
    "M,P = m_samples.shape\n",
    "xmin = np.min(x)\n",
    "xmax = np.max(x)\n",
    "ymin = np.min(m_samples)\n",
    "ymax = np.max(m_samples)\n",
    "\n",
    "ax0 = [xmin-5, xmax+5, ymin, ymax]    # axes for plotting samples\n",
    "\n",
    "# compute grid of distances among all points\n",
    "# (D is needed for calculating the covariance matrix)\n",
    "D = np.empty((M,M))\n",
    "for ii in range(M):      # index k\n",
    "    for jj in range(M):  # index k'\n",
    "        D[ii,jj] = np.abs(x[0,ii] - x[0,jj])\n",
    "        \n",
    "# Shorter way to do this:\n",
    "#[X1,X2] = np.meshgrid(x,x)\n",
    "#D = np.abs(X1-X2)\n",
    "\n",
    "# random pair of points\n",
    "k = np.random.randint(M,size=1)\n",
    "kp = np.random.randint(M,size=1);\n",
    "stlab = 'd(x(%i), x(%i)) = d(%.1f, %.1f) = %.1f' % (k,kp,x[0,k],x[0,kp],D[k,kp])\n",
    "\n",
    "plt.figure(figsize=(7,8))\n",
    "plt.plot(x,x*0,'k.')\n",
    "plt.plot(x[0,[k, kp]],[0, 0],'ro')\n",
    "plt.xlabel('x')\n",
    "plt.title(stlab)\n",
    "plt.grid(visible=True)\n",
    "plt.axis('tight')\n",
    "plt.show()\n",
    "\n",
    "# example of plotting a matrix with imagesc\n",
    "plt.figure(figsize=(7,8))\n",
    "plt.pcolor(D)\n",
    "plt.axis([-1, M+1, -1, M+1])\n",
    "plt.plot(kp,k,'wo',ms='10',mfc='black')\n",
    "plt.xlabel('k'' index')\n",
    "plt.ylabel('k index')\n",
    "plt.colorbar()\n",
    "plt.title('Distances between pairs of points (dmax = %.1f)' % (np.max(D)))\n",
    "plt.show()"
   ]
  },
  {
   "cell_type": "code",
   "execution_count": null,
   "id": "9cae27cd",
   "metadata": {},
   "outputs": [],
   "source": [
    "# Start PROBLEM 3 here\n"
   ]
  },
  {
   "cell_type": "code",
   "execution_count": null,
   "id": "bb291509",
   "metadata": {},
   "outputs": [],
   "source": [
    "# Start PROBLEM 4 here\n",
    "# CODE FOR COMPUTING NORMS OF YOUR ESTIMATED SAMPLES\n",
    "# THIS ASSUMES YOU HAVE VARIABLES NAMED mc_samples and Pnew\n",
    "\n",
    "# compute mean, std, and norm for EACH SAMPLE\n",
    "mean_samples  = np.zeros((Pnew,1))\n",
    "std_samples   = np.zeros((Pnew,1))\n",
    "norm_samples  = np.zeros((Pnew,1))\n",
    "\n",
    "for ii in range(Pnew):\n",
    "    mc = mc_samples[:,ii]  # sample of covariance matrix\n",
    "    #mean_samples[ii]  = \n",
    "    #std_samples[ii]   = \n",
    "    #norm_samples[ii]  =    # note: Numpy's 'norm' function will not work here!"
   ]
  },
  {
   "cell_type": "code",
   "execution_count": null,
   "id": "261bee71",
   "metadata": {},
   "outputs": [],
   "source": []
  }
 ],
 "metadata": {
  "kernelspec": {
   "display_name": "inverse",
   "language": "python",
   "name": "conda-env-inverse-py"
  },
  "language_info": {
   "codemirror_mode": {
    "name": "ipython",
    "version": 3
   },
   "file_extension": ".py",
   "mimetype": "text/x-python",
   "name": "python",
   "nbconvert_exporter": "python",
   "pygments_lexer": "ipython3",
   "version": "3.8.12"
  }
 },
 "nbformat": 4,
 "nbformat_minor": 5
}
