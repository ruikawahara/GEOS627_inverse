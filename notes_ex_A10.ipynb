{
 "cells": [
  {
   "cell_type": "code",
   "execution_count": 6,
   "metadata": {},
   "outputs": [],
   "source": [
    "# Coded by Yuan Tian at UAF 2021.01\n",
    "import matplotlib.pyplot as plt\n",
    "import numpy as np\n",
    "from sympy.matrices import Matrix # symbolic math package\n",
    "import scipy.linalg"
   ]
  },
  {
   "cell_type": "code",
   "execution_count": 36,
   "metadata": {},
   "outputs": [
    {
     "name": "stdout",
     "output_type": "stream",
     "text": [
      "example matrix (A.49):\n",
      "rref(A) (A.50)= \n",
      " Matrix([[1, 0, 2, 1], [0, 1, 3, 1], [0, 0, 0, 0]])\n"
     ]
    },
    {
     "data": {
      "text/latex": [
       "$\\displaystyle \\left[\\begin{matrix}1 & 0 & 2 & 1\\\\0 & 1 & 3 & 1\\\\0 & 0 & 0 & 0\\end{matrix}\\right]$"
      ],
      "text/plain": [
       "Matrix([\n",
       "[1, 0, 2, 1],\n",
       "[0, 1, 3, 1],\n",
       "[0, 0, 0, 0]])"
      ]
     },
     "execution_count": 36,
     "metadata": {},
     "output_type": "execute_result"
    }
   ],
   "source": [
    "print('example matrix (A.49):')\n",
    "A =[ [3,1,9,4 ] ,[2 ,1 ,7 ,3 ],[ 5 ,2, 16, 7]]\n",
    "A=np.array(A)\n",
    "A1 = Matrix(A)\n",
    "rref_mat, rref_ind = A1.rref() # Get both the RREF and the pivots\n",
    "print('rref(A) (A.50)= \\n', rref_mat)\n",
    "Matrix(A).rref()[0]"
   ]
  },
  {
   "cell_type": "code",
   "execution_count": 37,
   "metadata": {},
   "outputs": [
    {
     "name": "stdout",
     "output_type": "stream",
     "text": [
      "basis vectors for null space (A.51):\n",
      "one choice of b for A*x = b (A.52)\n"
     ]
    },
    {
     "data": {
      "text/latex": [
       "$\\displaystyle \\left[\\begin{matrix}1 & 0 & 2 & 1 & 5\\\\0 & 1 & 3 & 1 & 7\\\\0 & 0 & 0 & 0 & 0\\end{matrix}\\right]$"
      ],
      "text/plain": [
       "Matrix([\n",
       "[1, 0, 2, 1, 5],\n",
       "[0, 1, 3, 1, 7],\n",
       "[0, 0, 0, 0, 0]])"
      ]
     },
     "execution_count": 37,
     "metadata": {},
     "output_type": "execute_result"
    }
   ],
   "source": [
    "\n",
    "# relationship between two null spaces\n",
    "nA1 = scipy.linalg.null_space(A)\n",
    "# nA2 = scipy.linalg.null_space(A,'r')\n",
    "# q = nA1\\nA2\n",
    "# nA1*q\n",
    "\n",
    "print('basis vectors for null space (A.51):')\n",
    "x1 = np.array([-2,-3,1 ,0]).reshape((4,1))\n",
    "x2 = np.array([-1 ,-1 ,0 ,1]).reshape((4,1))\n",
    "\n",
    "print('one choice of b for A*x = b (A.52)')\n",
    "b = np.array([22 ,17 ,39] ).reshape(3,1)        # given\n",
    "#b = randi(99,3,1)       # most b are in the null space\n",
    "AB=np.hstack((A,b))\n",
    "AB1= Matrix(AB)\n",
    "rrefAB, rref_ind = AB1.rref()\n",
    "rrefAB"
   ]
  },
  {
   "cell_type": "code",
   "execution_count": 39,
   "metadata": {},
   "outputs": [
    {
     "name": "stdout",
     "output_type": "stream",
     "text": [
      "solution vector p corresponds to this choice of s and t (A.53):\n",
      "[2.00000000000000] [1 2 1 2]\n",
      "xn=\n",
      "[[-4.00000000000000]\n",
      " [-5.00000000000000]\n",
      " [1.00000000000000]\n",
      " [2.00000000000000]]\n",
      "p = xn + x0:\n",
      "[[1.00000000000000]\n",
      " [2.00000000000000]\n",
      " [1.00000000000000]\n",
      " [2.00000000000000]]\n",
      "add another null space vector to p (A.54):\n",
      "xn=\n",
      "[[-7]\n",
      " [-9]\n",
      " [ 2]\n",
      " [ 3]]\n",
      "xn + p:\n",
      "[[-6.00000000000000]\n",
      " [-7.00000000000000]\n",
      " [3.00000000000000]\n",
      " [5.00000000000000]]\n",
      "check A*p - b:\n",
      "[[0]\n",
      " [0]\n",
      " [0]]\n",
      "check A*(xn+p) - b:\n",
      "[[0]\n",
      " [0]\n",
      " [0]]\n"
     ]
    }
   ],
   "source": [
    "\n",
    "# choice of b leads to adding x0 to the solution: p = xn + x0\n",
    "# (set x3 = x4 = 0)\n",
    "x0 = np.vstack((rrefAB[:2,4],np.array([0,0]).reshape((2,1))))\n",
    "\n",
    "# given solution to Ax = b\n",
    "p =np.array([1, 2, 1, 2])\n",
    "# solve for s and t\n",
    "st = np.linalg.pinv(np.hstack((x1,x2))) @(p.reshape((4,1)) - x0)\n",
    "\n",
    "# choose the \"one particular solution\" as in Aster\n",
    "print('solution vector p corresponds to this choice of s and t (A.53):')\n",
    "s = st[0]\n",
    "t = st[1]\n",
    "print(t,p)\n",
    "# Eq A.53\n",
    "xn = s*x1 + t*x2\n",
    "print('xn=')\n",
    "print(xn)\n",
    "print('p = xn + x0:')\n",
    "p = xn + x0\n",
    "print(p)\n",
    "print('add another null space vector to p (A.54):')\n",
    "s=2\n",
    "t=3\n",
    "#s=0 t=0\n",
    "xn = s*x1 + t*x2\n",
    "print('xn=')\n",
    "print(xn)\n",
    "print('xn + p:')\n",
    "print(xn + p)\n",
    "\n",
    "print('check A*p - b:')\n",
    "print(A@p - b)\n",
    "print('check A*(xn+p) - b:')\n",
    "print(A@(xn+p) - b)"
   ]
  }
 ],
 "metadata": {
  "interpreter": {
   "hash": "7f341b321178e62fbbfacfb91167ed733f9907f6f0692efdceb8394e8303ba73"
  },
  "kernelspec": {
   "display_name": "Python 3.8.12 64-bit ('inverse': conda)",
   "language": "python",
   "name": "python3"
  },
  "language_info": {
   "codemirror_mode": {
    "name": "ipython",
    "version": 3
   },
   "file_extension": ".py",
   "mimetype": "text/x-python",
   "name": "python",
   "nbconvert_exporter": "python",
   "pygments_lexer": "ipython3",
   "version": "3.8.12"
  },
  "orig_nbformat": 4
 },
 "nbformat": 4,
 "nbformat_minor": 2
}
