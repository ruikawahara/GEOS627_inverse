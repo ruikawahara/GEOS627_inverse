{
 "cells": [
  {
   "cell_type": "code",
   "execution_count": null,
   "id": "46ffb4cc",
   "metadata": {},
   "outputs": [],
   "source": [
    "%matplotlib inline\n",
    "import matplotlib.pyplot as plt\n",
    "import numpy as np\n",
    "import scipy.io\n",
    "import scipy.special\n",
    "import warnings\n",
    "warnings.filterwarnings('ignore')\n",
    "from sympy.matrices import Matrix # symbolic math package\n",
    "\n",
    "from lib_geos import plot_histo"
   ]
  },
  {
   "cell_type": "code",
   "execution_count": null,
   "id": "dbba3332",
   "metadata": {},
   "outputs": [],
   "source": [
    "# check if fancy matrix display is working\n",
    "# for some reason, you only see the matrix if it is the last command in a cell\n",
    "# (you can see what happens if you uncomment the bottom line)\n",
    "A = np.array([[-1, 0, -4], [0, 2, 1], [1, 1, 4]])\n",
    "print(A)\n",
    "Matrix(A)\n",
    "#print(A)"
   ]
  },
  {
   "cell_type": "code",
   "execution_count": null,
   "id": "4f3122d5",
   "metadata": {},
   "outputs": [],
   "source": [
    "# test vectors\n",
    "a = np.array([[1], [2], [3]])\n",
    "b = np.array([[1], [2], [3], [4], [5]])"
   ]
  },
  {
   "cell_type": "code",
   "execution_count": null,
   "id": "a58408fd",
   "metadata": {
    "scrolled": true
   },
   "outputs": [],
   "source": [
    "Matrix(a)"
   ]
  },
  {
   "cell_type": "code",
   "execution_count": null,
   "id": "b8542d61",
   "metadata": {},
   "outputs": [],
   "source": [
    "Matrix(b)"
   ]
  },
  {
   "cell_type": "code",
   "execution_count": null,
   "id": "a9e1f316",
   "metadata": {},
   "outputs": [],
   "source": [
    "# example of filling up a matrix\n",
    "ndata = 3\n",
    "nparm = 5\n",
    "w = np.random.randn(ndata,nparm)\n",
    "Matrix(w)"
   ]
  },
  {
   "cell_type": "code",
   "execution_count": null,
   "id": "202b213f",
   "metadata": {},
   "outputs": [],
   "source": [
    "C = np.eye(nparm)\n",
    "Csamp = np.random.randn(nparm,nparm)   # THIS IS A DUMMY CALCULATION"
   ]
  },
  {
   "cell_type": "code",
   "execution_count": null,
   "id": "844e7861",
   "metadata": {},
   "outputs": [],
   "source": [
    "# numerical check\n",
    "Csamp_python = np.cov(w,rowvar=False) # numpy assumes rows are variables\n",
    "Cres = Csamp - Csamp_python\n",
    "\n",
    "print('checking our cov calculation vs python:');\n",
    "print(np.linalg.norm(np.divide(Cres,Csamp),ord=2))"
   ]
  },
  {
   "cell_type": "code",
   "execution_count": null,
   "id": "315103af",
   "metadata": {},
   "outputs": [],
   "source": [
    "# Graphical inspection of covariance matrices\n",
    "plt.figure(figsize=(10,9))\n",
    "plt.imshow(C,cmap='jet',vmin=0,vmax=1)\n",
    "plt.colorbar()\n",
    "plt.axis('tight')\n",
    "plt.show()"
   ]
  },
  {
   "cell_type": "code",
   "execution_count": null,
   "id": "85657891",
   "metadata": {},
   "outputs": [],
   "source": []
  }
 ],
 "metadata": {
  "kernelspec": {
   "display_name": "inverse",
   "language": "python",
   "name": "conda-env-inverse-py"
  },
  "language_info": {
   "codemirror_mode": {
    "name": "ipython",
    "version": 3
   },
   "file_extension": ".py",
   "mimetype": "text/x-python",
   "name": "python",
   "nbconvert_exporter": "python",
   "pygments_lexer": "ipython3",
   "version": "3.8.12"
  }
 },
 "nbformat": 4,
 "nbformat_minor": 5
}
