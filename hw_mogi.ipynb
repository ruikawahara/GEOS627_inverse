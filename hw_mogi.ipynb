{
 "cells": [
  {
   "cell_type": "code",
   "execution_count": null,
   "id": "0235c842",
   "metadata": {},
   "outputs": [],
   "source": [
    "%matplotlib inline\n",
    "import os\n",
    "import copy\n",
    "import subprocess\n",
    "import matplotlib.pylab as plt\n",
    "import numpy as np\n",
    "from os.path import exists\n",
    "\n",
    "from lib_mogi import *  # includes key functions\n",
    "\n",
    "# GEOS 627 Inverse Problems and Parameter Estimation, Carl Tape\n",
    "# GEOS 657 Microwave Remote Sensing, Franz Meyer\n",
    "# University of Alaska Fairbanks\n",
    "#\n",
    "# Modeling subsurface volcanic sources using InSAR data\n",
    "#\n",
    "# contributors: Zhong Lu, Franz Meyer, Carl Tape, Amanda McPherson*"
   ]
  },
  {
   "cell_type": "code",
   "execution_count": null,
   "id": "812f4d20",
   "metadata": {},
   "outputs": [],
   "source": [
    "# Define variables - InSAR\n",
    "sample = 1100\n",
    "line = 980\n",
    "posting = 40.0\n",
    "half_wave = 28.3"
   ]
  },
  {
   "cell_type": "code",
   "execution_count": null,
   "id": "2935940b",
   "metadata": {},
   "outputs": [],
   "source": [
    "#raise SystemExit(\"stop here\")"
   ]
  },
  {
   "cell_type": "code",
   "execution_count": null,
   "id": "3205b5ea",
   "metadata": {},
   "outputs": [],
   "source": [
    "# Download and read in data - InSAR\n",
    "displacement_map_path = 's3://asf-jupyter-data/E451_20000818_20020719.unw'\n",
    "displacement_map = os.path.basename(displacement_map_path)\n",
    "if not exists('./E451_20000818_20020719.unw'):\n",
    "    !aws --region=us-east-1 --no-sign-request s3 cp $displacement_map_path $displacement_map\n",
    "\n",
    "with open (displacement_map, 'rb') as f:    \n",
    "    coh = np.fromfile(f, dtype='>f', count=-1)\n",
    "    \n",
    "observed_displacement_map = np.reshape(coh, (line, sample))\n",
    "\n",
    "# Scale the measured and unwrapped InSAR phase into surface displacement in cm units and replace all nans with 0\n",
    "observed_displacement_map = observed_displacement_map*half_wave/2.0/np.pi\n",
    "where_are_NaNs = np.isnan(observed_displacement_map)\n",
    "isokay = np.isreal(observed_displacement_map)\n",
    "observed_displacement_map[where_are_NaNs] = 0\n",
    "\n",
    "# Create a masked that removes invalid samples (low coherence) from the displacement map\n",
    "observed_displacement_map_m = np.ma.masked_where(observed_displacement_map==0, observed_displacement_map)\n",
    "\n",
    "print('data files is %i x %i' % (observed_displacement_map_m.shape))\n",
    "print('line = %i' % line)\n",
    "print('sample = %i' % sample)"
   ]
  },
  {
   "cell_type": "code",
   "execution_count": null,
   "id": "ffc9c0a0",
   "metadata": {},
   "outputs": [],
   "source": [
    "xvec,yvec = plot_model(observed_displacement_map_m, line, sample, posting, dpi=200)"
   ]
  },
  {
   "cell_type": "code",
   "execution_count": null,
   "id": "52dc674c",
   "metadata": {},
   "outputs": [],
   "source": [
    "# function to create simulated displacement data based on Mogi source model parameters\n",
    "# note: this function requires variables sample, line, posting\n",
    "def mogi2insar(x, y, z, volume, iplot, imask):\n",
    "    # Organizing model parameters\n",
    "    bvc = [x, y, z, volume, 0, 0, 0, 0]\n",
    "    bvc = np.asarray(bvc, dtype=object)\n",
    "    bvc = np.transpose(bvc)\n",
    "    \n",
    "    # Setting acquisition parameters\n",
    "    track = -13.3*np.pi / 180.0\n",
    "    look  =  23.0*np.pi / 180.0\n",
    "    plook = [-np.sin(look)*np.cos(track), np.sin(look)*np.sin(track), np.cos(look)]\n",
    "    \n",
    "    # Defining easting and northing vectors\n",
    "    northing = np.arange(0, (line)*posting, posting) / 1000\n",
    "    easting = np.arange(0, (sample)*posting, posting) / 1000\n",
    "    northing_mat = np.tile(northing, (sample, 1))\n",
    "    easting_mat = np.transpose(np.tile(easting, (line, 1)))\n",
    "    northing_vec = np.reshape(northing_mat, (line*sample, 1))\n",
    "    easting_vec = np.reshape(easting_mat, (line*sample, 1))\n",
    "    \n",
    "    # Handing coordinates and model parameters over to the rngchg_mogi function\n",
    "    calc_range = rngchg_mogi(bvc[1], bvc[0], bvc[2], bvc[3], northing_vec, easting_vec, plook)\n",
    "    \n",
    "    # Reshaping surface displacement data derived via calc_forward_model_mogi()\n",
    "    surface_displacement = np.reshape(calc_range, (sample,line))\n",
    "    \n",
    "    # return rotated surface displacement\n",
    "    return np.transpose(np.fliplr(surface_displacement))"
   ]
  }
 ],
 "metadata": {
  "kernelspec": {
   "display_name": "inverse",
   "language": "python",
   "name": "conda-env-inverse-py"
  },
  "language_info": {
   "codemirror_mode": {
    "name": "ipython",
    "version": 3
   },
   "file_extension": ".py",
   "mimetype": "text/x-python",
   "name": "python",
   "nbconvert_exporter": "python",
   "pygments_lexer": "ipython3",
   "version": "3.8.12"
  }
 },
 "nbformat": 4,
 "nbformat_minor": 5
}
